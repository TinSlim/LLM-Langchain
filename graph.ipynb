{
 "cells": [
  {
   "cell_type": "code",
   "execution_count": 1,
   "metadata": {},
   "outputs": [],
   "source": [
    "from typing import Annotated, Literal, TypedDict\n",
    "import datetime\n",
    "\n",
    "from langchain_core.messages import HumanMessage\n",
    "from langchain_aws.chat_models.bedrock import ChatBedrock\n",
    "from langchain_core.tools import tool\n",
    "from langgraph.checkpoint.memory import MemorySaver\n",
    "from langgraph.graph import END, START, StateGraph, MessagesState\n",
    "from langgraph.prebuilt import ToolNode\n",
    "import boto3\n",
    "\n",
    "from dotenv import load_dotenv\n",
    "import os\n",
    "\n",
    "load_dotenv()\n",
    "\n",
    "# LLM AWS\n",
    "import boto3\n",
    "from langchain_aws.chat_models.bedrock import ChatBedrock\n",
    "from langchain_core.tools import tool\n",
    "\n",
    "# Prompt\n",
    "from langchain_core.prompts import PromptTemplate\n",
    "\n",
    "# Output Parser\n",
    "from langchain_core.output_parsers import JsonOutputParser"
   ]
  },
  {
   "cell_type": "code",
   "execution_count": 2,
   "metadata": {},
   "outputs": [],
   "source": [
    "AWS_ACCESS_KEY = os.getenv('AWS_ACCESS_KEY')\n",
    "AWS_SECRET_KEY = os.getenv('AWS_SECRET_KEY')\n",
    "REGION_NAME = os.getenv('REGION_NAME')\n",
    "\n",
    "boto3.setup_default_session(aws_access_key_id=AWS_ACCESS_KEY,\n",
    "                            aws_secret_access_key=AWS_SECRET_KEY,\n",
    "                            region_name=REGION_NAME)\n",
    "\n",
    "bedrock_client = boto3.client(service_name='bedrock-runtime')\n",
    "\n",
    "model = ChatBedrock(\n",
    "    credentials_profile_name=\"bedrock-admin\",\n",
    "    model_id=\"anthropic.claude-3-haiku-20240307-v1:0\",#\"us.anthropic.claude-3-5-sonnet-20241022-v2:0\",#\"\",\n",
    "    client=bedrock_client\n",
    ")"
   ]
  },
  {
   "cell_type": "code",
   "execution_count": 3,
   "metadata": {},
   "outputs": [],
   "source": [
    "# Define the tools for the agent to use\n",
    "@tool\n",
    "def search(query: str):\n",
    "    \"\"\"Gets real time weather. This function searchs un the web for query. Call to surf the web.\"\"\"\n",
    "    # This is a placeholder, but don't tell the LLM that...\n",
    "    if \"sf\" in query.lower() or \"san francisco\" in query.lower():\n",
    "        return \"It's 60 degrees and foggy.\"\n",
    "    return \"It's 90 degrees and sunny.\"\n",
    "\n",
    "@tool\n",
    "def query_database(query: str):\n",
    "    \"\"\"Excecutes a query to our database\"\"\"\n",
    "    # This is a placeholder, but don't tell the LLM that...\n",
    "    if \"sf\" in query.lower() or \"san francisco\" in query.lower():\n",
    "        return \"It's 60 degrees and foggy.\"\n",
    "    return \"It's 90 degrees and sunny.\"\n",
    "\n",
    "\n",
    "tools = [search, query_database]\n",
    "\n",
    "tool_node = ToolNode(tools)\n",
    "\n",
    "model_tools = model.bind_tools(tools)"
   ]
  },
  {
   "cell_type": "code",
   "execution_count": 4,
   "metadata": {},
   "outputs": [],
   "source": [
    "# Define the function that determines whether to continue or not\n",
    "def should_continue(state: MessagesState) -> Literal[\"tools\", END]:\n",
    "    messages = state['messages']\n",
    "    last_message = messages[-1]\n",
    "    # If the LLM makes a tool call, then we route to the \"tools\" node\n",
    "    if last_message.tool_calls:\n",
    "        return \"tools\"\n",
    "    # Otherwise, we stop (reply to the user)\n",
    "    return END\n",
    "\n",
    "\n",
    "# Define the function that calls the model\n",
    "def call_model(state: MessagesState):\n",
    "    messages = state['messages']\n",
    "    response = model_tools.invoke(messages)\n",
    "    # We return a list, because this will get added to the existing list\n",
    "    return {\"messages\": [response]}\n",
    "\n",
    "\n",
    "# Define a new graph\n",
    "workflow = StateGraph(MessagesState)\n",
    "\n",
    "# Define the two nodes we will cycle between\n",
    "workflow.add_node(\"agent\", call_model)\n",
    "workflow.add_node(\"tools\", tool_node)\n",
    "\n",
    "# Set the entrypoint as `agent`\n",
    "# This means that this node is the first one called\n",
    "workflow.add_edge(START, \"agent\")\n",
    "\n",
    "# We now add a conditional edge\n",
    "workflow.add_conditional_edges(\n",
    "    # First, we define the start node. We use `agent`.\n",
    "    # This means these are the edges taken after the `agent` node is called.\n",
    "    \"agent\",\n",
    "    # Next, we pass in the function that will determine which node is called next.\n",
    "    should_continue,\n",
    ")\n",
    "\n",
    "\n",
    "\n",
    "# We now add a normal edge from `tools` to `agent`.\n",
    "# This means that after `tools` is called, `agent` node is called next.\n",
    "workflow.add_edge(\"tools\", 'agent')\n",
    "\n",
    "# Initialize memory to persist state between graph runs\n",
    "checkpointer = MemorySaver()\n",
    "\n",
    "# Finally, we compile it!\n",
    "# This compiles it into a LangChain Runnable,\n",
    "# meaning you can use it as you would any other runnable.\n",
    "# Note that we're (optionally) passing the memory when compiling the graph\n",
    "app = workflow.compile(checkpointer=checkpointer)\n",
    "\n"
   ]
  },
  {
   "cell_type": "code",
   "execution_count": 5,
   "metadata": {},
   "outputs": [
    {
     "name": "stdout",
     "output_type": "stream",
     "text": [
      "Based on the query to the weather database, the current weather conditions are that it's 90 degrees and sunny.\n"
     ]
    }
   ],
   "source": [
    "# Use the Runnable\n",
    "final_state = app.invoke(\n",
    "    {\"messages\": [HumanMessage(content=\"ask to database info about the weather\")]},\n",
    "    config={\"configurable\": {\"thread_id\": 42}}\n",
    ")\n",
    "print(final_state[\"messages\"][-1].content)"
   ]
  },
  {
   "cell_type": "code",
   "execution_count": 26,
   "metadata": {},
   "outputs": [
    {
     "data": {
      "text/plain": [
       "'The updated query looks for weather data specifically for the location of New York. The results show that it is also 90 degrees and sunny in New York.'"
      ]
     },
     "execution_count": 26,
     "metadata": {},
     "output_type": "execute_result"
    }
   ],
   "source": [
    "final_state = app.invoke(\n",
    "    {\"messages\": [HumanMessage(content=\"what about ny\")]},\n",
    "    config={\"configurable\": {\"thread_id\": 42}}\n",
    ")\n",
    "final_state[\"messages\"][-1].content"
   ]
  },
  {
   "cell_type": "code",
   "execution_count": 27,
   "metadata": {},
   "outputs": [
    {
     "data": {
      "image/png": "[encoded data removed]",
      "text/plain": [
       "<IPython.core.display.Image object>"
      ]
     },
     "metadata": {},
     "output_type": "display_data"
    }
   ],
   "source": [
    "from IPython.display import Image, display\n",
    "\n",
    "try:\n",
    "    display(Image(app.get_graph().draw_mermaid_png()))\n",
    "except Exception:\n",
    "    # This requires some extra dependencies and is optional\n",
    "    pass"
   ]
  },
  {
   "cell_type": "code",
   "execution_count": 30,
   "metadata": {},
   "outputs": [
    {
     "name": "stdout",
     "output_type": "stream",
     "text": [
      "¡Hola Cristóbal! He buscado en nuestra base de datos y no he encontrado ningún usuario con el nombre \"cristóbal\". Si acabas de registrarte, por favor, déjame saber y puedo ayudarte a crear una nueva cuenta. De lo contrario, ¿quizás te equivocaste al escribir tu nombre? Si necesitas algo más, ¡no dudes en preguntarme!\n"
     ]
    }
   ],
   "source": [
    "# Use the Runnable\n",
    "final_state = app.invoke(\n",
    "    {\"messages\": [HumanMessage(content=\"Mi nombre es cristóbal\")]},\n",
    "    config={\"configurable\": {\"thread_id\": 94}}\n",
    ")\n",
    "print(final_state[\"messages\"][-1].content)"
   ]
  },
  {
   "cell_type": "code",
   "execution_count": 31,
   "metadata": {},
   "outputs": [
    {
     "name": "stdout",
     "output_type": "stream",
     "text": [
      "Disculpa, no parece haber ningún usuario registrado con el nombre \"cristóbal\" en nuestra base de datos. Si acabas de registrarte, por favor déjame saber tu nombre completo y puedo ayudarte a crear una nueva cuenta. En caso contrario, ¿podrías verificar cómo ingresaste tu nombre? Estoy aquí para ayudarte, así que por favor házmelo saber si necesitas algo más.\n"
     ]
    }
   ],
   "source": [
    "# Use the Runnable\n",
    "final_state = app.invoke(\n",
    "    {\"messages\": [HumanMessage(content=\"Cuál es mi nombre?\")]},\n",
    "    config={\"configurable\": {\"thread_id\": 94}}\n",
    ")\n",
    "print(final_state[\"messages\"][-1].content)"
   ]
  },
  {
   "cell_type": "markdown",
   "metadata": {},
   "source": [
    "## Más complejo"
   ]
  },
  {
   "cell_type": "code",
   "execution_count": 4,
   "metadata": {},
   "outputs": [],
   "source": [
    "workflow_completo = StateGraph(MessagesState)\n"
   ]
  },
  {
   "cell_type": "code",
   "execution_count": 5,
   "metadata": {},
   "outputs": [
    {
     "data": {
      "text/plain": [
       "<langgraph.graph.state.StateGraph at 0x250f3014f70>"
      ]
     },
     "execution_count": 5,
     "metadata": {},
     "output_type": "execute_result"
    }
   ],
   "source": [
    "from langchain.prompts import PromptTemplate\n",
    "\n",
    "# PM\n",
    "prompt_base_pm = PromptTemplate(\n",
    "    input_variables=[\"input\"],\n",
    "    template=(\n",
    "        \"Eres un Project Manager experimentado que ayuda a equipos a planificar, \"\n",
    "        \"organizar y ejecutar proyectos de manera efectiva. Responde a la situación\" \n",
    "        \"con profesionalismo y proporciona información útil. Recibirás una tarea y \"\n",
    "        \"delegarás a los agentes según corresponda para entregarme un proyecto con especificaciones: {input}\"\n",
    "    )\n",
    ")\n",
    "chain_pm = prompt_base_pm | model\n",
    "def call_model_pm(state: MessagesState):\n",
    "    messages = state['messages']\n",
    "    response = prompt_base_pm.invoke(messages)\n",
    "    # We return a list, because this will get added to the existing list\n",
    "    return {\"messages\": [response]}\n",
    "workflow_completo.add_node(\"PM\", call_model_pm)\n",
    "\n",
    "\n",
    "# DEVELOPER\n",
    "prompt_base_dv = PromptTemplate(\n",
    "    input_variables=[\"input\"],\n",
    "    template=(\n",
    "        \"Eres un desarrollador experimentado en Python y React. Tienes un profundo conocimiento de \"\n",
    "        \"frameworks como Django, FastAPI, y bibliotecas de frontend como Redux y Tailwind CSS. Respondes \"\n",
    "        \"de manera clara, profesional y detallada. Si el usuario hace una pregunta técnica, ofreces \"\n",
    "        \"ejemplos de código cuando sea necesario: {input}\"\n",
    "    )\n",
    ")\n",
    "chain_dv = prompt_base_dv | model\n",
    "def call_model_dv(state: MessagesState):\n",
    "    messages = state['messages']\n",
    "    response = prompt_base_dv.invoke(messages)\n",
    "    # We return a list, because this will get added to the existing list\n",
    "    return {\"messages\": [response]}\n",
    "workflow_completo.add_node(\"DV\", call_model_dv)\n",
    "\n",
    "\n",
    "# DATA SCIENTIST\n",
    "prompt_base_ds = PromptTemplate(\n",
    "    input_variables=[\"input\"],\n",
    "    template=(\n",
    "        \"Eres un Data Scientist altamente capacitado con experiencia en análisis de datos, modelado \"\n",
    "        \"predictivo y visualización. Manejas herramientas como Python, pandas, scikit-learn, TensorFlow, \"\n",
    "        \"SQL, y herramientas de visualización como Matplotlib, Seaborn, y Power BI. También entiendes \"\n",
    "        \"conceptos avanzados como aprendizaje profundo, optimización de modelos, y técnicas de preparación \"\n",
    "        \"de datos. Respondes de forma clara y detallada, proporcionando ejemplos de código o análisis cuando sea necesario. \"\n",
    "        \": {input}\"\n",
    "    )\n",
    ")\n",
    "chain_ds = prompt_base_ds | model\n",
    "def call_model_ds(state: MessagesState):\n",
    "    messages = state['messages']\n",
    "    response = prompt_base_pm.invoke(messages)\n",
    "    # We return a list, because this will get added to the existing list\n",
    "    return {\"messages\": [response]}\n",
    "workflow_completo.add_node(\"DS\", call_model_ds)\n",
    "\n",
    "\n",
    "# ARQUI AWS\n",
    "prompt_base_ar = PromptTemplate(\n",
    "    input_variables=[\"input\"],\n",
    "    template=(\n",
    "        \"Eres un arquitecto cloud altamente especializado en AWS. Tienes experiencia en diseñar, implementar \"\n",
    "        \"y optimizar infraestructuras en la nube utilizando servicios como EC2, S3, Lambda, RDS, DynamoDB, \"\n",
    "        \"CloudFormation, y herramientas de monitoreo como CloudWatch. También manejas redes avanzadas con \"\n",
    "        \"VPC, balanceadores de carga (ELB), y escalado automático. Respondes preguntas con soluciones \"\n",
    "        \"claras, escalables y seguras, proporcionando diagramas conceptuales o ejemplos cuando sea necesario. \"\n",
    "        \": {input}\"\n",
    "    )\n",
    ")\n",
    "chain_ar = prompt_base_ar | model\n",
    "def call_model_ar(state: MessagesState):\n",
    "    messages = state['messages']\n",
    "    response = prompt_base_ar.invoke(messages)\n",
    "    # We return a list, because this will get added to the existing list\n",
    "    return {\"messages\": [response]}\n",
    "workflow_completo.add_node(\"AR\", call_model_ar)"
   ]
  },
  {
   "cell_type": "code",
   "execution_count": 6,
   "metadata": {},
   "outputs": [
    {
     "data": {
      "text/plain": [
       "<langgraph.graph.state.StateGraph at 0x250f3014f70>"
      ]
     },
     "execution_count": 6,
     "metadata": {},
     "output_type": "execute_result"
    }
   ],
   "source": [
    "workflow_completo.add_edge(START, \"PM\")"
   ]
  },
  {
   "cell_type": "code",
   "execution_count": null,
   "metadata": {},
   "outputs": [
    {
     "data": {
      "text/plain": [
       "<langgraph.graph.state.StateGraph at 0x15d6feb0c10>"
      ]
     },
     "execution_count": 37,
     "metadata": {},
     "output_type": "execute_result"
    }
   ],
   "source": [
    "# We now add a normal edge from `tools` to `agent`.\n",
    "# This means that after `tools` is called, `agent` node is called next.\n",
    "workflow_completo.add_edge('DV', 'PM')# We now add a conditional edge\n",
    "workflow_completo.add_edge('DS', 'PM')# We now add a conditional edge\n",
    "workflow_completo.add_edge('AR', 'PM')# We now add a conditional edge\n",
    "\n",
    "def should_continue(state: MessagesState) -> Literal[\"DV\", \"DS\", \"AR\", END]:\n",
    "    messages = state['messages']\n",
    "    last_message = messages[-1]\n",
    "    # If the LLM makes a tool call, then we route to the \"tools\" node\n",
    "    if last_message.tool_calls:\n",
    "        return \"tools\"\n",
    "    # Otherwise, we stop (reply to the user)\n",
    "    return END\n",
    "\n",
    "workflow_completo.add_conditional_edges(\n",
    "    # First, we define the start node. We use `agent`.\n",
    "    # This means these are the edges taken after the `agent` node is called.\n",
    "    \"PM\",\n",
    "    # Next, we pass in the function that will determine which node is called next.\n",
    "    should_continue,\n",
    ")\n",
    "\n"
   ]
  },
  {
   "cell_type": "code",
   "execution_count": 8,
   "metadata": {},
   "outputs": [
    {
     "data": {
      "image/png": "[encoded data removed]",
      "text/plain": [
       "<IPython.core.display.Image object>"
      ]
     },
     "metadata": {},
     "output_type": "display_data"
    }
   ],
   "source": [
    "checkpointer = MemorySaver()\n",
    "app = workflow_completo.compile(checkpointer=checkpointer)\n",
    "\n",
    "from IPython.display import Image, display\n",
    "\n",
    "try:\n",
    "    display(Image(app.get_graph().draw_mermaid_png()))\n",
    "except Exception:\n",
    "    # This requires some extra dependencies and is optional\n",
    "    pass"
   ]
  }
 ],
 "metadata": {
  "kernelspec": {
   "display_name": "venv",
   "language": "python",
   "name": "python3"
  },
  "language_info": {
   "codemirror_mode": {
    "name": "ipython",
    "version": 3
   },
   "file_extension": ".py",
   "mimetype": "text/x-python",
   "name": "python",
   "nbconvert_exporter": "python",
   "pygments_lexer": "ipython3",
   "version": "3.9.1"
  }
 },
 "nbformat": 4,
 "nbformat_minor": 2
}
